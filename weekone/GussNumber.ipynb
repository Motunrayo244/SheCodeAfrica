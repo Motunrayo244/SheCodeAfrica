{
 "cells": [
  {
   "cell_type": "markdown",
   "metadata": {},
   "source": [
    "# WEEK 1: Guess The Number\n",
    "Write a program where the computer randomly\n",
    "generates a number between 0 and 20. The user needs to guess what the\n",
    "number is. If the user guesses wrong, tell them their guess is either too\n",
    "high, or too low."
   ]
  },
  {
   "cell_type": "code",
   "execution_count": 12,
   "metadata": {},
   "outputs": [],
   "source": [
    "import random as rand\n"
   ]
  },
  {
   "cell_type": "code",
   "execution_count": 13,
   "metadata": {},
   "outputs": [],
   "source": [
    "def random_num_gen ():\n",
    "    return rand.randint(0,20)\n",
    "    "
   ]
  },
  {
   "cell_type": "code",
   "execution_count": 22,
   "metadata": {},
   "outputs": [
    {
     "name": "stdout",
     "output_type": "stream",
     "text": [
      "Enter a number between 0 and 2010\n",
      "The number you inputed is 10.\n"
     ]
    }
   ],
   "source": [
    "# users inputs a number between 1 and 20, the number is compared with random number generated\n",
    "random_number = random_num_gen()\n",
    "user_num_guess = int(input(\"Enter a number between 0 and 20\"))\n",
    "print (\"The number you inputed is {}.\".format(user_num_guess))\n"
   ]
  },
  {
   "cell_type": "code",
   "execution_count": 23,
   "metadata": {},
   "outputs": [
    {
     "name": "stdout",
     "output_type": "stream",
     "text": [
      "sorry your guess 10 is too low\n"
     ]
    }
   ],
   "source": [
    "#conditional statement to check if the guessed number is higher than, lower than or equal to the generated number.\n",
    "if random_number == user_num_guess:\n",
    "    print (\"Well done your guess {} is correct\".format (user_num_guess))\n",
    "elif random_number < user_num_guess:\n",
    "     print (\"sorry your guess {} is too high\".format (user_num_guess))\n",
    "else:\n",
    "    print (\"sorry your guess {} is too low\".format (user_num_guess))\n",
    "    "
   ]
  },
  {
   "cell_type": "code",
   "execution_count": null,
   "metadata": {},
   "outputs": [],
   "source": []
  }
 ],
 "metadata": {
  "kernelspec": {
   "display_name": "Python 3",
   "language": "python",
   "name": "python3"
  },
  "language_info": {
   "codemirror_mode": {
    "name": "ipython",
    "version": 3
   },
   "file_extension": ".py",
   "mimetype": "text/x-python",
   "name": "python",
   "nbconvert_exporter": "python",
   "pygments_lexer": "ipython3",
   "version": "3.8.3"
  }
 },
 "nbformat": 4,
 "nbformat_minor": 4
}
