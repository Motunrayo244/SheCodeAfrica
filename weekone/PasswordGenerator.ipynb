{
 "cells": [
  {
   "cell_type": "markdown",
   "metadata": {},
   "source": [
    "# Password Generator \n",
    "Write a program, which generates a random\n",
    "password for the user. Ask the user how long they want their password to\n",
    "be, and how many letters and numbers they want in their password. Have\n",
    "a mix of upper and lowercase letters, as well as numbers and symbols. The\n",
    "password should be a minimum of 6 characters long."
   ]
  },
  {
   "cell_type": "markdown",
   "metadata": {},
   "source": [
    "## Import Random Libraries"
   ]
  },
  {
   "cell_type": "code",
   "execution_count": 54,
   "metadata": {},
   "outputs": [],
   "source": [
    "import random as rand\n"
   ]
  },
  {
   "cell_type": "markdown",
   "metadata": {},
   "source": [
    "## Obtain the different parts of the password. \n",
    "The password consists of **Letters (Upper and Lower), Digits, and Symbols**"
   ]
  },
  {
   "cell_type": "markdown",
   "metadata": {},
   "source": [
    "### Function obtains different part Length from User"
   ]
  },
  {
   "cell_type": "code",
   "execution_count": 55,
   "metadata": {},
   "outputs": [],
   "source": [
    "def password_part (password_length):\n",
    "    \"\"\" password_part function is used to obtain the numbers of digits \n",
    "    and letters to be contained in the password generated.\n",
    "    The function also checks the total length of the password and ensures the \n",
    "    total number of digits and letters is less than the password length.\"\"\"\n",
    "    \n",
    "    num_letters = int(input(\"How many letters do you want your password to contain: \"))\n",
    "    num_digits =int(input(\"How many digits do you want your password to contain: \"))\n",
    "    \n",
    "    total = num_letters + num_digits\n",
    "    if total >= password_length:\n",
    "        print (\"Sorry, the sum of words and digits must be less than total password length\")\n",
    "        password_part(password_length)\n",
    "    else:\n",
    "        psw_parts = [num_digits, num_letters]\n",
    "        return psw_parts"
   ]
  },
  {
   "cell_type": "markdown",
   "metadata": {},
   "source": [
    "### Functions to generate different parts of the password"
   ]
  },
  {
   "cell_type": "code",
   "execution_count": 56,
   "metadata": {},
   "outputs": [],
   "source": [
    "def psw_digits_generator (num_digits):\n",
    "    rand_digits =\"\"\n",
    "    rand_int_value = rand.choices([0,1,2,3,4,5,6,7,8,9], k=num_digits)\n",
    "    for i in rand_int_value:                      \n",
    "        rand_int_str = str(i)\n",
    "        rand_digits += rand_int_str  \n",
    "        \n",
    "    return  rand_digits"
   ]
  },
  {
   "cell_type": "code",
   "execution_count": 57,
   "metadata": {},
   "outputs": [],
   "source": [
    "def psw_letters_generator (num_letters):\n",
    "    rand_letters =\"\"\n",
    "    for i in range(num_letters):        \n",
    "        # the upper case aplphabet starts at 65 in the ASCII character encoding\n",
    "        #i.e A is 65 and z is 90\n",
    "        rand_int_value = rand.randint(65, 90)\n",
    "        \n",
    "        flip_bit = rand.randint(0,1) #generates a random flip bit that decides if letter should be lower case or not\n",
    "        #convert to lowercase if flip bit is on\n",
    "        \n",
    "        rand_int_value = rand_int_value + 32 if flip_bit else rand_int_value\n",
    "        rand_char = chr(rand_int_value)\n",
    "        rand_letters += rand_char \n",
    "        \n",
    "    return rand_letters"
   ]
  },
  {
   "cell_type": "code",
   "execution_count": 58,
   "metadata": {},
   "outputs": [],
   "source": [
    "\n",
    "def psw_symbols_generator (num_letters, num_digits, total):\n",
    "    num_symbols = total - (num_letters + num_digits)\n",
    "    \n",
    "    rand_symbols =\"\"\n",
    "    # ASCII symbols \"!,#,$,&,*,-,+,?,@,[,],_,{,}\"\n",
    "    rand_int_value = rand.choices([33,35,36,38,42,45,43,63,64,91,93,95,123,125], k=num_symbols)\n",
    "    for i in rand_int_value:                      \n",
    "        rand_char = chr(i)\n",
    "        rand_symbols += rand_char\n",
    "       \n",
    "    return rand_symbols\n",
    " \n",
    "    "
   ]
  },
  {
   "cell_type": "code",
   "execution_count": 59,
   "metadata": {},
   "outputs": [],
   "source": [
    "### Join the Three generated parts\n",
    "def join_psw_parts(letters_part, digits_part, symbols_part):\n",
    "    full_psw = letters_part + digits_part +symbols_part\n",
    "    return full_psw"
   ]
  },
  {
   "cell_type": "code",
   "execution_count": 90,
   "metadata": {},
   "outputs": [],
   "source": [
    "def shuffle_psw (psw):  \n",
    "    shf_psw =\"\".join(rand.sample(psw, len(psw)))   \n",
    "    return shf_psw\n",
    "    "
   ]
  },
  {
   "cell_type": "code",
   "execution_count": 61,
   "metadata": {},
   "outputs": [
    {
     "name": "stdout",
     "output_type": "stream",
     "text": [
      "Please enter the length of your desired password: 20\n",
      "How many letters do you want your password to contain: 2\n",
      "How many digits do you want your password to contain: 12\n",
      "Number of letters and digits in your password is 12 and 2 resprctively\n"
     ]
    }
   ],
   "source": [
    "psw_length = int(input(\"Please enter the length of your desired password: \"))\n",
    "part_list = password_part(psw_length);\n",
    "\n",
    "num_letters = part_list[0]\n",
    "num_digits = part_list[1]\n",
    "print(\"Number of letters and digits in your password is {} and {} resprctively\".format(num_letters, num_digits))\n",
    "                      "
   ]
  },
  {
   "cell_type": "code",
   "execution_count": 84,
   "metadata": {},
   "outputs": [
    {
     "name": "stdout",
     "output_type": "stream",
     "text": [
      "71 TccudaAFnjGV __+]*@\n"
     ]
    }
   ],
   "source": [
    "psw_digits = psw_digits_generator (num_digits)\n",
    "psw_letters = psw_letters_generator (num_letters)\n",
    "psw_symbols = psw_symbols_generator (num_letters, num_digits, psw_length)\n",
    "\n",
    "print ( psw_digits + \" \" + psw_letters + \" \" + psw_symbols)\n",
    "    "
   ]
  },
  {
   "cell_type": "code",
   "execution_count": 92,
   "metadata": {},
   "outputs": [
    {
     "name": "stdout",
     "output_type": "stream",
     "text": [
      "Fdc*TV_@1+ujcAG_an7]\n",
      "Fdc*TV_@1+ujcAG_an7]\n"
     ]
    }
   ],
   "source": [
    "psw_joined = join_psw_parts( psw_digits, psw_letters, psw_symbols)\n",
    "\n",
    "psw = shuffle_psw (psw_joined)\n",
    "print(psw)\n"
   ]
  },
  {
   "cell_type": "markdown",
   "metadata": {},
   "source": [
    "## Using Regex"
   ]
  },
  {
   "cell_type": "code",
   "execution_count": null,
   "metadata": {},
   "outputs": [],
   "source": [
    "import re as regex"
   ]
  },
  {
   "cell_type": "code",
   "execution_count": null,
   "metadata": {},
   "outputs": [],
   "source": [
    "def psw_regex_part_generator (num_part, part_regexp):\n",
    "    rand_part =\"\"\n",
    "    rand_regex_value = rand.choices(part_regexp, k=num_part)\n",
    "    psw_part = \"\".join(rand_regex_value)  \n",
    "        \n",
    "    return  psw_part"
   ]
  },
  {
   "cell_type": "code",
   "execution_count": null,
   "metadata": {},
   "outputs": [],
   "source": [
    "num_rand_capital_letters = rand.randint(1,num_letters-1)\n",
    "num_small_letters = num_letters - num_rand_capital_letters\n",
    "psw_regex_digit = psw_regex_part_generator (num_digits, [0-9])\n",
    "psw_regex_letter = psw_regex_part_generator (num_rand_capital_letters, [A-Z]) + \n",
    "                    psw_regex_part_generator (nums_small_letters, [a-z])\n",
    "psw_regex_symbols = psw_regex_part_generator (nums_symbol, ['!','#','$','&','*,-,+,?,@,[,],_,{,}])"
   ]
  }
 ],
 "metadata": {
  "kernelspec": {
   "display_name": "Python 3",
   "language": "python",
   "name": "python3"
  },
  "language_info": {
   "codemirror_mode": {
    "name": "ipython",
    "version": 3
   },
   "file_extension": ".py",
   "mimetype": "text/x-python",
   "name": "python",
   "nbconvert_exporter": "python",
   "pygments_lexer": "ipython3",
   "version": "3.8.3"
  }
 },
 "nbformat": 4,
 "nbformat_minor": 4
}
